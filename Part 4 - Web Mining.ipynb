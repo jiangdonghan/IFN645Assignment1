{
 "cells": [
  {
   "cell_type": "markdown",
   "metadata": {},
   "source": [
    "# Part 4: Web Mining the Log Data for a Website\n",
    "## Task 6 Web Mining\n",
    "### First data mining operation: ???\n",
    "\n",
    "a. The rationale for selecting the specific operation/method.\n",
    "\n",
    "b. What variables did you include in the analysis and what were their roles and measurement level set? Justify your choice.\n",
    "\n",
    "c. Can you identify data quality issues in order to perform web mining?\n",
    "\n",
    "d. Discuss the results obtained. Discuss also the applicability of findings of the method. Should include a high-level managerial kind of discussion on the findings, should not be just interpretation of results as shown in the results panel."
   ]
  },
  {
   "cell_type": "code",
   "execution_count": null,
   "metadata": {},
   "outputs": [],
   "source": []
  },
  {
   "cell_type": "markdown",
   "metadata": {},
   "source": [
    "### Second data mining operation: ???\n",
    "\n",
    "a. The rationale for selecting the specific operation/method.\n",
    "\n",
    "b. What variables did you include in the analysis and what were their roles and measurement level set? Justify your choice.\n",
    "\n",
    "c. Can you identify data quality issues in order to perform web mining?\n",
    "\n",
    "d. Discuss the results obtained. Discuss also the applicability of findings of the method. Should include a high-level managerial kind of discussion on the findings, should not be just interpretation of results as shown in the results panel."
   ]
  },
  {
   "cell_type": "code",
   "execution_count": null,
   "metadata": {},
   "outputs": [],
   "source": []
  }
 ],
 "metadata": {
  "kernelspec": {
   "display_name": "Python 3",
   "language": "python",
   "name": "python3"
  },
  "language_info": {
   "codemirror_mode": {
    "name": "ipython",
    "version": 3
   },
   "file_extension": ".py",
   "mimetype": "text/x-python",
   "name": "python",
   "nbconvert_exporter": "python",
   "pygments_lexer": "ipython3",
   "version": "3.6.5"
  }
 },
 "nbformat": 4,
 "nbformat_minor": 2
}
